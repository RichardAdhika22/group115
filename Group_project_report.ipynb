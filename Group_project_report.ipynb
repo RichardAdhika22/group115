{
 "cells": [
  {
   "cell_type": "markdown",
   "id": "0a66b31f-6cdb-4bd0-a8cf-fe9c7b829eb1",
   "metadata": {},
   "source": [
    "# INTRODUCTION"
   ]
  },
  {
   "cell_type": "code",
   "execution_count": null,
   "id": "687aec18-1ea0-4aa7-b911-31ecdfec0189",
   "metadata": {},
   "outputs": [],
   "source": []
  }
 ],
 "metadata": {
  "kernelspec": {
   "display_name": "",
   "name": ""
  },
  "language_info": {
   "name": ""
  }
 },
 "nbformat": 4,
 "nbformat_minor": 5
}
