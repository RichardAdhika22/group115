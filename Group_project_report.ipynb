{
 "cells": [
  {
   "cell_type": "markdown",
   "id": "0a66b31f-6cdb-4bd0-a8cf-fe9c7b829eb1",
   "metadata": {},
   "source": [
    "# INTRODUCTION"
   ]
  },
  {
   "cell_type": "markdown",
   "id": "39a98727-d22e-4cae-b87b-106494105028",
   "metadata": {},
   "source": [
    "## Prediction to the risk of heart attack "
   ]
  },
  {
   "cell_type": "code",
   "execution_count": null,
   "id": "13942a59-2e40-4d6d-9bdf-fedcc0b69d06",
   "metadata": {},
   "outputs": [],
   "source": []
  }
 ],
 "metadata": {
  "kernelspec": {
   "display_name": "",
   "name": ""
  },
  "language_info": {
   "name": ""
  }
 },
 "nbformat": 4,
 "nbformat_minor": 5
}
