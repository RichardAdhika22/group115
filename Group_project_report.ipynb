{
 "cells": [
  {
   "cell_type": "code",
   "execution_count": 1,
   "id": "7f600418-6bfc-432b-ab4a-9ffd29fdab93",
   "metadata": {},
   "outputs": [],
   "source": [
    "library(tidyverse) |> suppressMessages()\n",
    "library(repr) |> suppressMessages()\n",
    "library(tidymodels) |> suppressMessages()\n",
    "library(cowplot) |> suppressMessages()\n",
    "options(repr.matrix.max.rows = 6)\n",
    "#source('tests.R')\n",
    "#source(\"cleanup.R\")"
   ]
  },
  {
   "cell_type": "markdown",
   "id": "0a66b31f-6cdb-4bd0-a8cf-fe9c7b829eb1",
   "metadata": {},
   "source": [
    "# INTRODUCTION"
   ]
  },
  {
   "cell_type": "markdown",
   "id": "39a98727-d22e-4cae-b87b-106494105028",
   "metadata": {},
   "source": [
    "## Prediction to the risk of heart attack "
   ]
  },
  {
   "cell_type": "code",
   "execution_count": null,
   "id": "13942a59-2e40-4d6d-9bdf-fedcc0b69d06",
   "metadata": {},
   "outputs": [],
   "source": []
  },
  {
   "cell_type": "code",
   "execution_count": null,
   "id": "3147910b-4acb-4ecb-a05f-1acae4a34b18",
   "metadata": {},
   "outputs": [],
   "source": []
  }
 ],
 "metadata": {
  "kernelspec": {
   "display_name": "R",
   "language": "R",
   "name": "ir"
  },
  "language_info": {
   "codemirror_mode": "r",
   "file_extension": ".r",
   "mimetype": "text/x-r-source",
   "name": "R",
   "pygments_lexer": "r",
   "version": "4.1.3"
  }
 },
 "nbformat": 4,
 "nbformat_minor": 5
}
