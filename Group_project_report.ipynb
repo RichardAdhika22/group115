{
 "cells": [
  {
   "cell_type": "code",
   "execution_count": 1,
   "id": "7f600418-6bfc-432b-ab4a-9ffd29fdab93",
   "metadata": {},
   "outputs": [],
   "source": [
    "library(tidyverse) |> suppressMessages()\n",
    "library(repr) |> suppressMessages()\n",
    "library(tidymodels) |> suppressMessages()\n",
    "library(cowplot) |> suppressMessages()\n",
    "options(repr.matrix.max.rows = 6)\n",
    "#source('tests.R')\n",
    "#source(\"cleanup.R\")"
   ]
  },
  {
   "cell_type": "markdown",
   "id": "39a98727-d22e-4cae-b87b-106494105028",
   "metadata": {},
   "source": [
    "# Prediction to the risk of heart attack "
   ]
  },
  {
   "cell_type": "markdown",
   "id": "0a66b31f-6cdb-4bd0-a8cf-fe9c7b829eb1",
   "metadata": {},
   "source": [
    "## INTRODUCTION"
   ]
  },
  {
   "cell_type": "code",
   "execution_count": null,
   "id": "13942a59-2e40-4d6d-9bdf-fedcc0b69d06",
   "metadata": {},
   "outputs": [],
   "source": []
  },
  {
   "cell_type": "markdown",
   "id": "20b3463e-ccd3-4a0e-9c60-5da5ea71b48c",
   "metadata": {},
   "source": [
    "## METHODS AND RESULTS"
   ]
  },
  {
   "cell_type": "markdown",
   "id": "63872698-ce3b-4168-8bfe-80aaf4933290",
   "metadata": {},
   "source": [
    "#### Reading the data\n",
    "\n",
    "Firstly, we read the data from our github repository using read_csv function. Beforehand, we decided to download the original data from UCI machine learning repository and move it into our github repository for the sake of accessibility. "
   ]
  },
  {
   "cell_type": "code",
   "execution_count": 9,
   "id": "64d71171-7451-4725-8dcc-9aafb0e9f3b1",
   "metadata": {},
   "outputs": [
    {
     "data": {
      "text/html": [
       "<table class=\"dataframe\">\n",
       "<caption>A spec_tbl_df: 294 × 14</caption>\n",
       "<thead>\n",
       "\t<tr><th scope=col>X1</th><th scope=col>X2</th><th scope=col>X3</th><th scope=col>X4</th><th scope=col>X5</th><th scope=col>X6</th><th scope=col>X7</th><th scope=col>X8</th><th scope=col>X9</th><th scope=col>X10</th><th scope=col>X11</th><th scope=col>X12</th><th scope=col>X13</th><th scope=col>X14</th></tr>\n",
       "\t<tr><th scope=col>&lt;dbl&gt;</th><th scope=col>&lt;dbl&gt;</th><th scope=col>&lt;dbl&gt;</th><th scope=col>&lt;chr&gt;</th><th scope=col>&lt;chr&gt;</th><th scope=col>&lt;chr&gt;</th><th scope=col>&lt;chr&gt;</th><th scope=col>&lt;chr&gt;</th><th scope=col>&lt;chr&gt;</th><th scope=col>&lt;dbl&gt;</th><th scope=col>&lt;chr&gt;</th><th scope=col>&lt;chr&gt;</th><th scope=col>&lt;chr&gt;</th><th scope=col>&lt;dbl&gt;</th></tr>\n",
       "</thead>\n",
       "<tbody>\n",
       "\t<tr><td>28</td><td>1</td><td>2</td><td>130</td><td>132</td><td>0</td><td>2</td><td>185</td><td>0</td><td>0</td><td>?</td><td>?</td><td>?</td><td>0</td></tr>\n",
       "\t<tr><td>29</td><td>1</td><td>2</td><td>120</td><td>243</td><td>0</td><td>0</td><td>160</td><td>0</td><td>0</td><td>?</td><td>?</td><td>?</td><td>0</td></tr>\n",
       "\t<tr><td>29</td><td>1</td><td>2</td><td>140</td><td>?  </td><td>0</td><td>0</td><td>170</td><td>0</td><td>0</td><td>?</td><td>?</td><td>?</td><td>0</td></tr>\n",
       "\t<tr><td>⋮</td><td>⋮</td><td>⋮</td><td>⋮</td><td>⋮</td><td>⋮</td><td>⋮</td><td>⋮</td><td>⋮</td><td>⋮</td><td>⋮</td><td>⋮</td><td>⋮</td><td>⋮</td></tr>\n",
       "\t<tr><td>56</td><td>1</td><td>4</td><td>155</td><td>342</td><td>1</td><td>0</td><td>150</td><td>1</td><td>3</td><td>2</td><td>?</td><td>?</td><td>1</td></tr>\n",
       "\t<tr><td>58</td><td>0</td><td>2</td><td>180</td><td>393</td><td>0</td><td>0</td><td>110</td><td>1</td><td>1</td><td>2</td><td>?</td><td>7</td><td>1</td></tr>\n",
       "\t<tr><td>65</td><td>1</td><td>4</td><td>130</td><td>275</td><td>0</td><td>1</td><td>115</td><td>1</td><td>1</td><td>2</td><td>?</td><td>?</td><td>1</td></tr>\n",
       "</tbody>\n",
       "</table>\n"
      ],
      "text/latex": [
       "A spec\\_tbl\\_df: 294 × 14\n",
       "\\begin{tabular}{llllllllllllll}\n",
       " X1 & X2 & X3 & X4 & X5 & X6 & X7 & X8 & X9 & X10 & X11 & X12 & X13 & X14\\\\\n",
       " <dbl> & <dbl> & <dbl> & <chr> & <chr> & <chr> & <chr> & <chr> & <chr> & <dbl> & <chr> & <chr> & <chr> & <dbl>\\\\\n",
       "\\hline\n",
       "\t 28 & 1 & 2 & 130 & 132 & 0 & 2 & 185 & 0 & 0 & ? & ? & ? & 0\\\\\n",
       "\t 29 & 1 & 2 & 120 & 243 & 0 & 0 & 160 & 0 & 0 & ? & ? & ? & 0\\\\\n",
       "\t 29 & 1 & 2 & 140 & ?   & 0 & 0 & 170 & 0 & 0 & ? & ? & ? & 0\\\\\n",
       "\t ⋮ & ⋮ & ⋮ & ⋮ & ⋮ & ⋮ & ⋮ & ⋮ & ⋮ & ⋮ & ⋮ & ⋮ & ⋮ & ⋮\\\\\n",
       "\t 56 & 1 & 4 & 155 & 342 & 1 & 0 & 150 & 1 & 3 & 2 & ? & ? & 1\\\\\n",
       "\t 58 & 0 & 2 & 180 & 393 & 0 & 0 & 110 & 1 & 1 & 2 & ? & 7 & 1\\\\\n",
       "\t 65 & 1 & 4 & 130 & 275 & 0 & 1 & 115 & 1 & 1 & 2 & ? & ? & 1\\\\\n",
       "\\end{tabular}\n"
      ],
      "text/markdown": [
       "\n",
       "A spec_tbl_df: 294 × 14\n",
       "\n",
       "| X1 &lt;dbl&gt; | X2 &lt;dbl&gt; | X3 &lt;dbl&gt; | X4 &lt;chr&gt; | X5 &lt;chr&gt; | X6 &lt;chr&gt; | X7 &lt;chr&gt; | X8 &lt;chr&gt; | X9 &lt;chr&gt; | X10 &lt;dbl&gt; | X11 &lt;chr&gt; | X12 &lt;chr&gt; | X13 &lt;chr&gt; | X14 &lt;dbl&gt; |\n",
       "|---|---|---|---|---|---|---|---|---|---|---|---|---|---|\n",
       "| 28 | 1 | 2 | 130 | 132 | 0 | 2 | 185 | 0 | 0 | ? | ? | ? | 0 |\n",
       "| 29 | 1 | 2 | 120 | 243 | 0 | 0 | 160 | 0 | 0 | ? | ? | ? | 0 |\n",
       "| 29 | 1 | 2 | 140 | ?   | 0 | 0 | 170 | 0 | 0 | ? | ? | ? | 0 |\n",
       "| ⋮ | ⋮ | ⋮ | ⋮ | ⋮ | ⋮ | ⋮ | ⋮ | ⋮ | ⋮ | ⋮ | ⋮ | ⋮ | ⋮ |\n",
       "| 56 | 1 | 4 | 155 | 342 | 1 | 0 | 150 | 1 | 3 | 2 | ? | ? | 1 |\n",
       "| 58 | 0 | 2 | 180 | 393 | 0 | 0 | 110 | 1 | 1 | 2 | ? | 7 | 1 |\n",
       "| 65 | 1 | 4 | 130 | 275 | 0 | 1 | 115 | 1 | 1 | 2 | ? | ? | 1 |\n",
       "\n"
      ],
      "text/plain": [
       "    X1 X2 X3 X4  X5  X6 X7 X8  X9 X10 X11 X12 X13 X14\n",
       "1   28 1  2  130 132 0  2  185 0  0   ?   ?   ?   0  \n",
       "2   29 1  2  120 243 0  0  160 0  0   ?   ?   ?   0  \n",
       "3   29 1  2  140 ?   0  0  170 0  0   ?   ?   ?   0  \n",
       "⋮   ⋮  ⋮  ⋮  ⋮   ⋮   ⋮  ⋮  ⋮   ⋮  ⋮   ⋮   ⋮   ⋮   ⋮  \n",
       "292 56 1  4  155 342 1  0  150 1  3   2   ?   ?   1  \n",
       "293 58 0  2  180 393 0  0  110 1  1   2   ?   7   1  \n",
       "294 65 1  4  130 275 0  1  115 1  1   2   ?   ?   1  "
      ]
     },
     "metadata": {},
     "output_type": "display_data"
    }
   ],
   "source": [
    "heart_attack_data_raw = read_delim(\"https://raw.githubusercontent.com/RichardAdhika22/group115/main/processed.hungarian%20(1).data\",delim=\",\"\n",
    "                                ,col_names=FALSE) |> suppressMessages()\n",
    "\n",
    "heart_attack_data_raw"
   ]
  },
  {
   "cell_type": "markdown",
   "id": "275a25cb-cc42-408e-bb05-9f6c112d6760",
   "metadata": {},
   "source": [
    "#### Cleaning and tidying the data\n",
    "\n",
    "The dataframe above does not have any column name, so we can add the column's name referring to the information given for each column from the UCI machine learning repository. Furthermore, there are some missing data, which is marked by the \"?\" in the table. Therefore, we also remove all of the missing data. Last but not least, we change the data type for \"sex\" and \"num\" from double to factor, so that we can do classification on the variable \"num\" (classification can only be done on a factor type variable)."
   ]
  },
  {
   "cell_type": "code",
   "execution_count": 10,
   "id": "934a23e7-005f-4ed9-8094-0af98a2de821",
   "metadata": {},
   "outputs": [
    {
     "data": {
      "text/html": [
       "<table class=\"dataframe\">\n",
       "<caption>A tibble: 261 × 11</caption>\n",
       "<thead>\n",
       "\t<tr><th scope=col>age</th><th scope=col>sex</th><th scope=col>cp</th><th scope=col>trestbps</th><th scope=col>chol</th><th scope=col>fbs</th><th scope=col>restecg</th><th scope=col>thalach</th><th scope=col>exang</th><th scope=col>oldpeak</th><th scope=col>num</th></tr>\n",
       "\t<tr><th scope=col>&lt;dbl&gt;</th><th scope=col>&lt;fct&gt;</th><th scope=col>&lt;dbl&gt;</th><th scope=col>&lt;dbl&gt;</th><th scope=col>&lt;dbl&gt;</th><th scope=col>&lt;dbl&gt;</th><th scope=col>&lt;dbl&gt;</th><th scope=col>&lt;dbl&gt;</th><th scope=col>&lt;dbl&gt;</th><th scope=col>&lt;dbl&gt;</th><th scope=col>&lt;fct&gt;</th></tr>\n",
       "</thead>\n",
       "<tbody>\n",
       "\t<tr><td>28</td><td>1</td><td>2</td><td>130</td><td>132</td><td>0</td><td>2</td><td>185</td><td>0</td><td>0</td><td>0</td></tr>\n",
       "\t<tr><td>29</td><td>1</td><td>2</td><td>120</td><td>243</td><td>0</td><td>0</td><td>160</td><td>0</td><td>0</td><td>0</td></tr>\n",
       "\t<tr><td>30</td><td>0</td><td>1</td><td>170</td><td>237</td><td>0</td><td>1</td><td>170</td><td>0</td><td>0</td><td>0</td></tr>\n",
       "\t<tr><td>⋮</td><td>⋮</td><td>⋮</td><td>⋮</td><td>⋮</td><td>⋮</td><td>⋮</td><td>⋮</td><td>⋮</td><td>⋮</td><td>⋮</td></tr>\n",
       "\t<tr><td>56</td><td>1</td><td>4</td><td>155</td><td>342</td><td>1</td><td>0</td><td>150</td><td>1</td><td>3</td><td>1</td></tr>\n",
       "\t<tr><td>58</td><td>0</td><td>2</td><td>180</td><td>393</td><td>0</td><td>0</td><td>110</td><td>1</td><td>1</td><td>1</td></tr>\n",
       "\t<tr><td>65</td><td>1</td><td>4</td><td>130</td><td>275</td><td>0</td><td>1</td><td>115</td><td>1</td><td>1</td><td>1</td></tr>\n",
       "</tbody>\n",
       "</table>\n"
      ],
      "text/latex": [
       "A tibble: 261 × 11\n",
       "\\begin{tabular}{lllllllllll}\n",
       " age & sex & cp & trestbps & chol & fbs & restecg & thalach & exang & oldpeak & num\\\\\n",
       " <dbl> & <fct> & <dbl> & <dbl> & <dbl> & <dbl> & <dbl> & <dbl> & <dbl> & <dbl> & <fct>\\\\\n",
       "\\hline\n",
       "\t 28 & 1 & 2 & 130 & 132 & 0 & 2 & 185 & 0 & 0 & 0\\\\\n",
       "\t 29 & 1 & 2 & 120 & 243 & 0 & 0 & 160 & 0 & 0 & 0\\\\\n",
       "\t 30 & 0 & 1 & 170 & 237 & 0 & 1 & 170 & 0 & 0 & 0\\\\\n",
       "\t ⋮ & ⋮ & ⋮ & ⋮ & ⋮ & ⋮ & ⋮ & ⋮ & ⋮ & ⋮ & ⋮\\\\\n",
       "\t 56 & 1 & 4 & 155 & 342 & 1 & 0 & 150 & 1 & 3 & 1\\\\\n",
       "\t 58 & 0 & 2 & 180 & 393 & 0 & 0 & 110 & 1 & 1 & 1\\\\\n",
       "\t 65 & 1 & 4 & 130 & 275 & 0 & 1 & 115 & 1 & 1 & 1\\\\\n",
       "\\end{tabular}\n"
      ],
      "text/markdown": [
       "\n",
       "A tibble: 261 × 11\n",
       "\n",
       "| age &lt;dbl&gt; | sex &lt;fct&gt; | cp &lt;dbl&gt; | trestbps &lt;dbl&gt; | chol &lt;dbl&gt; | fbs &lt;dbl&gt; | restecg &lt;dbl&gt; | thalach &lt;dbl&gt; | exang &lt;dbl&gt; | oldpeak &lt;dbl&gt; | num &lt;fct&gt; |\n",
       "|---|---|---|---|---|---|---|---|---|---|---|\n",
       "| 28 | 1 | 2 | 130 | 132 | 0 | 2 | 185 | 0 | 0 | 0 |\n",
       "| 29 | 1 | 2 | 120 | 243 | 0 | 0 | 160 | 0 | 0 | 0 |\n",
       "| 30 | 0 | 1 | 170 | 237 | 0 | 1 | 170 | 0 | 0 | 0 |\n",
       "| ⋮ | ⋮ | ⋮ | ⋮ | ⋮ | ⋮ | ⋮ | ⋮ | ⋮ | ⋮ | ⋮ |\n",
       "| 56 | 1 | 4 | 155 | 342 | 1 | 0 | 150 | 1 | 3 | 1 |\n",
       "| 58 | 0 | 2 | 180 | 393 | 0 | 0 | 110 | 1 | 1 | 1 |\n",
       "| 65 | 1 | 4 | 130 | 275 | 0 | 1 | 115 | 1 | 1 | 1 |\n",
       "\n"
      ],
      "text/plain": [
       "    age sex cp trestbps chol fbs restecg thalach exang oldpeak num\n",
       "1   28  1   2  130      132  0   2       185     0     0       0  \n",
       "2   29  1   2  120      243  0   0       160     0     0       0  \n",
       "3   30  0   1  170      237  0   1       170     0     0       0  \n",
       "⋮   ⋮   ⋮   ⋮  ⋮        ⋮    ⋮   ⋮       ⋮       ⋮     ⋮       ⋮  \n",
       "259 56  1   4  155      342  1   0       150     1     3       1  \n",
       "260 58  0   2  180      393  0   0       110     1     1       1  \n",
       "261 65  1   4  130      275  0   1       115     1     1       1  "
      ]
     },
     "metadata": {},
     "output_type": "display_data"
    }
   ],
   "source": [
    "colnames(heart_attack_data_raw) = c('age','sex','cp','trestbps','chol','fbs','restecg','thalach','exang','oldpeak','slope','ca','thal','num')\n",
    "heart_attack_data_tidy = select(heart_attack_data_raw,-slope,-ca,-thal)\n",
    "heart_attack_data_tidy = filter_all(heart_attack_data_tidy,all_vars(.!=\"?\"))\n",
    "heart_attack_data_tidy = mutate_if(heart_attack_data_tidy, is.character,as.numeric) |> mutate(num = as.factor(num)) |> mutate(sex = as.factor(sex))\n",
    "\n",
    "heart_attack_data_tidy\n"
   ]
  },
  {
   "cell_type": "markdown",
   "id": "a0ab6652-2997-480d-b006-cc68942fec15",
   "metadata": {},
   "source": [
    "#### Splitting the data into training and testing set\n",
    "\n",
    "As a good rule of thumb, we should always split our data into training set and testing set when doing a prediction. All of the exploratory analysis and model below will only be built based on the training data. For the testing data, we will only use it to evaluate the accuracy of our prediction and summarize how well our prediction do."
   ]
  },
  {
   "cell_type": "code",
   "execution_count": 12,
   "id": "3d368be9-7d4e-4582-ae24-2ea85bd0219a",
   "metadata": {},
   "outputs": [],
   "source": [
    "heart_attack_split = initial_split(heart_attack_data_tidy, prop = 0.75, strata = num)\n",
    "heart_attack_training = training(heart_attack_split)\n",
    "heart_attack_testing = testing(heart_attack_split)"
   ]
  },
  {
   "cell_type": "markdown",
   "id": "013cf3e7-c60c-488b-aca1-e0d47416d39b",
   "metadata": {},
   "source": [
    "#### Selecting only the data used in the prediction\n",
    "\n",
    "Here, we choose 5 variables as our predictors as follow: age, trestbps, chol, thalach, oldpeak, num. The reason is because these 5 variables come in the double type, which will be more accurate to use in our prediction compared to the rest (Based on the table above, other variables also come in double type, but they are actually supposed to be factor type).|"
   ]
  },
  {
   "cell_type": "code",
   "execution_count": 7,
   "id": "d1d6c845-e7df-431d-b3b7-4bf6ae4ca8cf",
   "metadata": {},
   "outputs": [
    {
     "data": {
      "text/html": [
       "<table class=\"dataframe\">\n",
       "<caption>A tibble: 195 × 6</caption>\n",
       "<thead>\n",
       "\t<tr><th scope=col>age</th><th scope=col>trestbps</th><th scope=col>chol</th><th scope=col>thalach</th><th scope=col>oldpeak</th><th scope=col>num</th></tr>\n",
       "\t<tr><th scope=col>&lt;dbl&gt;</th><th scope=col>&lt;dbl&gt;</th><th scope=col>&lt;dbl&gt;</th><th scope=col>&lt;dbl&gt;</th><th scope=col>&lt;dbl&gt;</th><th scope=col>&lt;fct&gt;</th></tr>\n",
       "</thead>\n",
       "<tbody>\n",
       "\t<tr><td>29</td><td>120</td><td>243</td><td>160</td><td>0</td><td>0</td></tr>\n",
       "\t<tr><td>30</td><td>170</td><td>237</td><td>170</td><td>0</td><td>0</td></tr>\n",
       "\t<tr><td>31</td><td>100</td><td>219</td><td>150</td><td>0</td><td>0</td></tr>\n",
       "\t<tr><td>⋮</td><td>⋮</td><td>⋮</td><td>⋮</td><td>⋮</td><td>⋮</td></tr>\n",
       "\t<tr><td>52</td><td>160</td><td>331</td><td> 94</td><td>2.5</td><td>1</td></tr>\n",
       "\t<tr><td>56</td><td>155</td><td>342</td><td>150</td><td>3.0</td><td>1</td></tr>\n",
       "\t<tr><td>65</td><td>130</td><td>275</td><td>115</td><td>1.0</td><td>1</td></tr>\n",
       "</tbody>\n",
       "</table>\n"
      ],
      "text/latex": [
       "A tibble: 195 × 6\n",
       "\\begin{tabular}{llllll}\n",
       " age & trestbps & chol & thalach & oldpeak & num\\\\\n",
       " <dbl> & <dbl> & <dbl> & <dbl> & <dbl> & <fct>\\\\\n",
       "\\hline\n",
       "\t 29 & 120 & 243 & 160 & 0 & 0\\\\\n",
       "\t 30 & 170 & 237 & 170 & 0 & 0\\\\\n",
       "\t 31 & 100 & 219 & 150 & 0 & 0\\\\\n",
       "\t ⋮ & ⋮ & ⋮ & ⋮ & ⋮ & ⋮\\\\\n",
       "\t 52 & 160 & 331 &  94 & 2.5 & 1\\\\\n",
       "\t 56 & 155 & 342 & 150 & 3.0 & 1\\\\\n",
       "\t 65 & 130 & 275 & 115 & 1.0 & 1\\\\\n",
       "\\end{tabular}\n"
      ],
      "text/markdown": [
       "\n",
       "A tibble: 195 × 6\n",
       "\n",
       "| age &lt;dbl&gt; | trestbps &lt;dbl&gt; | chol &lt;dbl&gt; | thalach &lt;dbl&gt; | oldpeak &lt;dbl&gt; | num &lt;fct&gt; |\n",
       "|---|---|---|---|---|---|\n",
       "| 29 | 120 | 243 | 160 | 0 | 0 |\n",
       "| 30 | 170 | 237 | 170 | 0 | 0 |\n",
       "| 31 | 100 | 219 | 150 | 0 | 0 |\n",
       "| ⋮ | ⋮ | ⋮ | ⋮ | ⋮ | ⋮ |\n",
       "| 52 | 160 | 331 |  94 | 2.5 | 1 |\n",
       "| 56 | 155 | 342 | 150 | 3.0 | 1 |\n",
       "| 65 | 130 | 275 | 115 | 1.0 | 1 |\n",
       "\n"
      ],
      "text/plain": [
       "    age trestbps chol thalach oldpeak num\n",
       "1   29  120      243  160     0       0  \n",
       "2   30  170      237  170     0       0  \n",
       "3   31  100      219  150     0       0  \n",
       "⋮   ⋮   ⋮        ⋮    ⋮       ⋮       ⋮  \n",
       "193 52  160      331   94     2.5     1  \n",
       "194 56  155      342  150     3.0     1  \n",
       "195 65  130      275  115     1.0     1  "
      ]
     },
     "metadata": {},
     "output_type": "display_data"
    }
   ],
   "source": [
    "heart_attack_data_selected = heart_attack_training |>\n",
    "    select(age,trestbps,chol,thalach,oldpeak,num)\n",
    "\n",
    "heart_attack_data_selected"
   ]
  },
  {
   "cell_type": "code",
   "execution_count": 8,
   "id": "d42d9077-01ac-4149-b184-d4fca2813ea5",
   "metadata": {},
   "outputs": [
    {
     "data": {
      "text/html": [
       "<table class=\"dataframe\">\n",
       "<caption>A tibble: 2 × 3</caption>\n",
       "<thead>\n",
       "\t<tr><th scope=col>num</th><th scope=col>total_number_of_num</th><th scope=col>percentage</th></tr>\n",
       "\t<tr><th scope=col>&lt;fct&gt;</th><th scope=col>&lt;int&gt;</th><th scope=col>&lt;dbl&gt;</th></tr>\n",
       "</thead>\n",
       "<tbody>\n",
       "\t<tr><td>0</td><td>122</td><td>62.5641</td></tr>\n",
       "\t<tr><td>1</td><td> 73</td><td>37.4359</td></tr>\n",
       "</tbody>\n",
       "</table>\n"
      ],
      "text/latex": [
       "A tibble: 2 × 3\n",
       "\\begin{tabular}{lll}\n",
       " num & total\\_number\\_of\\_num & percentage\\\\\n",
       " <fct> & <int> & <dbl>\\\\\n",
       "\\hline\n",
       "\t 0 & 122 & 62.5641\\\\\n",
       "\t 1 &  73 & 37.4359\\\\\n",
       "\\end{tabular}\n"
      ],
      "text/markdown": [
       "\n",
       "A tibble: 2 × 3\n",
       "\n",
       "| num &lt;fct&gt; | total_number_of_num &lt;int&gt; | percentage &lt;dbl&gt; |\n",
       "|---|---|---|\n",
       "| 0 | 122 | 62.5641 |\n",
       "| 1 |  73 | 37.4359 |\n",
       "\n"
      ],
      "text/plain": [
       "  num total_number_of_num percentage\n",
       "1 0   122                 62.5641   \n",
       "2 1    73                 37.4359   "
      ]
     },
     "metadata": {},
     "output_type": "display_data"
    }
   ],
   "source": [
    "total_amount = heart_attack_data_selected |>\n",
    "    summarize(\"total\"=n())|>\n",
    "    pull()\n",
    "\n",
    "table_num_count = heart_attack_data_selected |>\n",
    "    group_by(num) |>\n",
    "    summarize(\"total_number_of_num\" = n())|>\n",
    "    mutate(\"percentage\" = total_number_of_num/total_amount*100)\n",
    "\n",
    "table_num_count "
   ]
  },
  {
   "cell_type": "code",
   "execution_count": null,
   "id": "c23900f2-666f-4d7a-9315-75c041e68fb5",
   "metadata": {},
   "outputs": [],
   "source": []
  }
 ],
 "metadata": {
  "kernelspec": {
   "display_name": "R",
   "language": "R",
   "name": "ir"
  },
  "language_info": {
   "codemirror_mode": "r",
   "file_extension": ".r",
   "mimetype": "text/x-r-source",
   "name": "R",
   "pygments_lexer": "r",
   "version": "4.1.3"
  }
 },
 "nbformat": 4,
 "nbformat_minor": 5
}
