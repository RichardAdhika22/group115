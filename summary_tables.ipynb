{
 "cells": [
  {
   "cell_type": "code",
   "execution_count": 1,
   "id": "7eacc773-e3d8-49fa-8577-9f03703ca1bc",
   "metadata": {},
   "outputs": [
    {
     "name": "stderr",
     "output_type": "stream",
     "text": [
      "── \u001b[1mAttaching packages\u001b[22m ─────────────────────────────────────── tidyverse 1.3.1 ──\n",
      "\n",
      "\u001b[32m✔\u001b[39m \u001b[34mggplot2\u001b[39m 3.3.6     \u001b[32m✔\u001b[39m \u001b[34mpurrr  \u001b[39m 0.3.4\n",
      "\u001b[32m✔\u001b[39m \u001b[34mtibble \u001b[39m 3.1.7     \u001b[32m✔\u001b[39m \u001b[34mdplyr  \u001b[39m 1.0.9\n",
      "\u001b[32m✔\u001b[39m \u001b[34mtidyr  \u001b[39m 1.2.0     \u001b[32m✔\u001b[39m \u001b[34mstringr\u001b[39m 1.4.0\n",
      "\u001b[32m✔\u001b[39m \u001b[34mreadr  \u001b[39m 2.1.2     \u001b[32m✔\u001b[39m \u001b[34mforcats\u001b[39m 0.5.1\n",
      "\n",
      "── \u001b[1mConflicts\u001b[22m ────────────────────────────────────────── tidyverse_conflicts() ──\n",
      "\u001b[31m✖\u001b[39m \u001b[34mdplyr\u001b[39m::\u001b[32mfilter()\u001b[39m masks \u001b[34mstats\u001b[39m::filter()\n",
      "\u001b[31m✖\u001b[39m \u001b[34mdplyr\u001b[39m::\u001b[32mlag()\u001b[39m    masks \u001b[34mstats\u001b[39m::lag()\n",
      "\n",
      "── \u001b[1mAttaching packages\u001b[22m ────────────────────────────────────── tidymodels 1.0.0 ──\n",
      "\n",
      "\u001b[32m✔\u001b[39m \u001b[34mbroom       \u001b[39m 1.0.0     \u001b[32m✔\u001b[39m \u001b[34mrsample     \u001b[39m 1.0.0\n",
      "\u001b[32m✔\u001b[39m \u001b[34mdials       \u001b[39m 1.0.0     \u001b[32m✔\u001b[39m \u001b[34mtune        \u001b[39m 1.0.0\n",
      "\u001b[32m✔\u001b[39m \u001b[34minfer       \u001b[39m 1.0.2     \u001b[32m✔\u001b[39m \u001b[34mworkflows   \u001b[39m 1.0.0\n",
      "\u001b[32m✔\u001b[39m \u001b[34mmodeldata   \u001b[39m 1.0.0     \u001b[32m✔\u001b[39m \u001b[34mworkflowsets\u001b[39m 1.0.0\n",
      "\u001b[32m✔\u001b[39m \u001b[34mparsnip     \u001b[39m 1.0.0     \u001b[32m✔\u001b[39m \u001b[34myardstick   \u001b[39m 1.0.0\n",
      "\u001b[32m✔\u001b[39m \u001b[34mrecipes     \u001b[39m 1.0.1     \n",
      "\n",
      "── \u001b[1mConflicts\u001b[22m ───────────────────────────────────────── tidymodels_conflicts() ──\n",
      "\u001b[31m✖\u001b[39m \u001b[34mscales\u001b[39m::\u001b[32mdiscard()\u001b[39m masks \u001b[34mpurrr\u001b[39m::discard()\n",
      "\u001b[31m✖\u001b[39m \u001b[34mdplyr\u001b[39m::\u001b[32mfilter()\u001b[39m   masks \u001b[34mstats\u001b[39m::filter()\n",
      "\u001b[31m✖\u001b[39m \u001b[34mrecipes\u001b[39m::\u001b[32mfixed()\u001b[39m  masks \u001b[34mstringr\u001b[39m::fixed()\n",
      "\u001b[31m✖\u001b[39m \u001b[34mdplyr\u001b[39m::\u001b[32mlag()\u001b[39m      masks \u001b[34mstats\u001b[39m::lag()\n",
      "\u001b[31m✖\u001b[39m \u001b[34myardstick\u001b[39m::\u001b[32mspec()\u001b[39m masks \u001b[34mreadr\u001b[39m::spec()\n",
      "\u001b[31m✖\u001b[39m \u001b[34mrecipes\u001b[39m::\u001b[32mstep()\u001b[39m   masks \u001b[34mstats\u001b[39m::step()\n",
      "\u001b[34m•\u001b[39m Use \u001b[32mtidymodels_prefer()\u001b[39m to resolve common conflicts.\n",
      "\n"
     ]
    }
   ],
   "source": [
    "library(tidyverse)\n",
    "library(repr)\n",
    "library(tidymodels)\n",
    "options(repr.matrix.max.rows = 6)\n",
    "#source('tests.R')\n",
    "#source(\"cleanup.R\")"
   ]
  },
  {
   "cell_type": "code",
   "execution_count": 2,
   "id": "c464ad08-fec3-43bb-a7e3-fadc7b3dd362",
   "metadata": {},
   "outputs": [
    {
     "name": "stderr",
     "output_type": "stream",
     "text": [
      "\u001b[1mRows: \u001b[22m\u001b[34m294\u001b[39m \u001b[1mColumns: \u001b[22m\u001b[34m14\u001b[39m\n",
      "\u001b[36m──\u001b[39m \u001b[1mColumn specification\u001b[22m \u001b[36m────────────────────────────────────────────────────────\u001b[39m\n",
      "\u001b[1mDelimiter:\u001b[22m \" \"\n",
      "\u001b[32mdbl\u001b[39m (14): X1, X2, X3, X4, X5, X6, X7, X8, X9, X10, X11, X12, X13, X14\n",
      "\n",
      "\u001b[36mℹ\u001b[39m Use `spec()` to retrieve the full column specification for this data.\n",
      "\u001b[36mℹ\u001b[39m Specify the column types or set `show_col_types = FALSE` to quiet this message.\n"
     ]
    },
    {
     "data": {
      "text/html": [
       "<table class=\"dataframe\">\n",
       "<caption>A spec_tbl_df: 294 × 14</caption>\n",
       "<thead>\n",
       "\t<tr><th scope=col>age</th><th scope=col>sex</th><th scope=col>cp</th><th scope=col>trestbps</th><th scope=col>chol</th><th scope=col>fbs</th><th scope=col>restecg</th><th scope=col>thalach</th><th scope=col>exang</th><th scope=col>oldpeak</th><th scope=col>slope</th><th scope=col>ca</th><th scope=col>thal</th><th scope=col>num</th></tr>\n",
       "\t<tr><th scope=col>&lt;dbl&gt;</th><th scope=col>&lt;dbl&gt;</th><th scope=col>&lt;dbl&gt;</th><th scope=col>&lt;dbl&gt;</th><th scope=col>&lt;dbl&gt;</th><th scope=col>&lt;dbl&gt;</th><th scope=col>&lt;dbl&gt;</th><th scope=col>&lt;dbl&gt;</th><th scope=col>&lt;dbl&gt;</th><th scope=col>&lt;dbl&gt;</th><th scope=col>&lt;dbl&gt;</th><th scope=col>&lt;dbl&gt;</th><th scope=col>&lt;dbl&gt;</th><th scope=col>&lt;dbl&gt;</th></tr>\n",
       "</thead>\n",
       "<tbody>\n",
       "\t<tr><td>40</td><td>1</td><td>2</td><td>140</td><td>289</td><td>0</td><td>0</td><td>172</td><td>0</td><td>0</td><td>-9</td><td>-9</td><td>-9</td><td>0</td></tr>\n",
       "\t<tr><td>49</td><td>0</td><td>3</td><td>160</td><td>180</td><td>0</td><td>0</td><td>156</td><td>0</td><td>1</td><td> 2</td><td>-9</td><td>-9</td><td>1</td></tr>\n",
       "\t<tr><td>37</td><td>1</td><td>2</td><td>130</td><td>283</td><td>0</td><td>1</td><td> 98</td><td>0</td><td>0</td><td>-9</td><td>-9</td><td>-9</td><td>0</td></tr>\n",
       "\t<tr><td>⋮</td><td>⋮</td><td>⋮</td><td>⋮</td><td>⋮</td><td>⋮</td><td>⋮</td><td>⋮</td><td>⋮</td><td>⋮</td><td>⋮</td><td>⋮</td><td>⋮</td><td>⋮</td></tr>\n",
       "\t<tr><td>48</td><td>1</td><td>3</td><td>110</td><td>211</td><td>0</td><td>0</td><td>138</td><td>0</td><td>0</td><td>-9</td><td>-9</td><td> 6</td><td>0</td></tr>\n",
       "\t<tr><td>47</td><td>0</td><td>2</td><td>140</td><td>257</td><td>0</td><td>0</td><td>135</td><td>0</td><td>1</td><td> 1</td><td>-9</td><td>-9</td><td>0</td></tr>\n",
       "\t<tr><td>53</td><td>1</td><td>4</td><td>130</td><td>182</td><td>0</td><td>0</td><td>148</td><td>0</td><td>0</td><td>-9</td><td>-9</td><td>-9</td><td>0</td></tr>\n",
       "</tbody>\n",
       "</table>\n"
      ],
      "text/latex": [
       "A spec\\_tbl\\_df: 294 × 14\n",
       "\\begin{tabular}{llllllllllllll}\n",
       " age & sex & cp & trestbps & chol & fbs & restecg & thalach & exang & oldpeak & slope & ca & thal & num\\\\\n",
       " <dbl> & <dbl> & <dbl> & <dbl> & <dbl> & <dbl> & <dbl> & <dbl> & <dbl> & <dbl> & <dbl> & <dbl> & <dbl> & <dbl>\\\\\n",
       "\\hline\n",
       "\t 40 & 1 & 2 & 140 & 289 & 0 & 0 & 172 & 0 & 0 & -9 & -9 & -9 & 0\\\\\n",
       "\t 49 & 0 & 3 & 160 & 180 & 0 & 0 & 156 & 0 & 1 &  2 & -9 & -9 & 1\\\\\n",
       "\t 37 & 1 & 2 & 130 & 283 & 0 & 1 &  98 & 0 & 0 & -9 & -9 & -9 & 0\\\\\n",
       "\t ⋮ & ⋮ & ⋮ & ⋮ & ⋮ & ⋮ & ⋮ & ⋮ & ⋮ & ⋮ & ⋮ & ⋮ & ⋮ & ⋮\\\\\n",
       "\t 48 & 1 & 3 & 110 & 211 & 0 & 0 & 138 & 0 & 0 & -9 & -9 &  6 & 0\\\\\n",
       "\t 47 & 0 & 2 & 140 & 257 & 0 & 0 & 135 & 0 & 1 &  1 & -9 & -9 & 0\\\\\n",
       "\t 53 & 1 & 4 & 130 & 182 & 0 & 0 & 148 & 0 & 0 & -9 & -9 & -9 & 0\\\\\n",
       "\\end{tabular}\n"
      ],
      "text/markdown": [
       "\n",
       "A spec_tbl_df: 294 × 14\n",
       "\n",
       "| age &lt;dbl&gt; | sex &lt;dbl&gt; | cp &lt;dbl&gt; | trestbps &lt;dbl&gt; | chol &lt;dbl&gt; | fbs &lt;dbl&gt; | restecg &lt;dbl&gt; | thalach &lt;dbl&gt; | exang &lt;dbl&gt; | oldpeak &lt;dbl&gt; | slope &lt;dbl&gt; | ca &lt;dbl&gt; | thal &lt;dbl&gt; | num &lt;dbl&gt; |\n",
       "|---|---|---|---|---|---|---|---|---|---|---|---|---|---|\n",
       "| 40 | 1 | 2 | 140 | 289 | 0 | 0 | 172 | 0 | 0 | -9 | -9 | -9 | 0 |\n",
       "| 49 | 0 | 3 | 160 | 180 | 0 | 0 | 156 | 0 | 1 |  2 | -9 | -9 | 1 |\n",
       "| 37 | 1 | 2 | 130 | 283 | 0 | 1 |  98 | 0 | 0 | -9 | -9 | -9 | 0 |\n",
       "| ⋮ | ⋮ | ⋮ | ⋮ | ⋮ | ⋮ | ⋮ | ⋮ | ⋮ | ⋮ | ⋮ | ⋮ | ⋮ | ⋮ |\n",
       "| 48 | 1 | 3 | 110 | 211 | 0 | 0 | 138 | 0 | 0 | -9 | -9 |  6 | 0 |\n",
       "| 47 | 0 | 2 | 140 | 257 | 0 | 0 | 135 | 0 | 1 |  1 | -9 | -9 | 0 |\n",
       "| 53 | 1 | 4 | 130 | 182 | 0 | 0 | 148 | 0 | 0 | -9 | -9 | -9 | 0 |\n",
       "\n"
      ],
      "text/plain": [
       "    age sex cp trestbps chol fbs restecg thalach exang oldpeak slope ca thal\n",
       "1   40  1   2  140      289  0   0       172     0     0       -9    -9 -9  \n",
       "2   49  0   3  160      180  0   0       156     0     1        2    -9 -9  \n",
       "3   37  1   2  130      283  0   1        98     0     0       -9    -9 -9  \n",
       "⋮   ⋮   ⋮   ⋮  ⋮        ⋮    ⋮   ⋮       ⋮       ⋮     ⋮       ⋮     ⋮  ⋮   \n",
       "292 48  1   3  110      211  0   0       138     0     0       -9    -9  6  \n",
       "293 47  0   2  140      257  0   0       135     0     1        1    -9 -9  \n",
       "294 53  1   4  130      182  0   0       148     0     0       -9    -9 -9  \n",
       "    num\n",
       "1   0  \n",
       "2   1  \n",
       "3   0  \n",
       "⋮   ⋮  \n",
       "292 0  \n",
       "293 0  \n",
       "294 0  "
      ]
     },
     "metadata": {},
     "output_type": "display_data"
    }
   ],
   "source": [
    "heart_attack_data_raw = read_delim(\"https://raw.githubusercontent.com/RichardAdhika22/group115/main/reprocessed.hungarian.data\",delim=\" \",col_names=FALSE)\n",
    "colnames(heart_attack_data_raw) = c('age','sex','cp','trestbps','chol','fbs','restecg','thalach','exang','oldpeak','slope','ca','thal','num')\n",
    "heart_attack_data_raw"
   ]
  },
  {
   "cell_type": "code",
   "execution_count": 8,
   "id": "c7cc0cba-3059-44d3-ab69-37e723b849ad",
   "metadata": {},
   "outputs": [
    {
     "data": {
      "text/html": [
       "<table class=\"dataframe\">\n",
       "<caption>A tibble: 294 × 6</caption>\n",
       "<thead>\n",
       "\t<tr><th scope=col>sex</th><th scope=col>trestbps</th><th scope=col>chol</th><th scope=col>thalach</th><th scope=col>cp</th><th scope=col>num</th></tr>\n",
       "\t<tr><th scope=col>&lt;dbl&gt;</th><th scope=col>&lt;dbl&gt;</th><th scope=col>&lt;dbl&gt;</th><th scope=col>&lt;dbl&gt;</th><th scope=col>&lt;dbl&gt;</th><th scope=col>&lt;dbl&gt;</th></tr>\n",
       "</thead>\n",
       "<tbody>\n",
       "\t<tr><td>1</td><td>140</td><td>289</td><td>172</td><td>2</td><td>0</td></tr>\n",
       "\t<tr><td>0</td><td>160</td><td>180</td><td>156</td><td>3</td><td>1</td></tr>\n",
       "\t<tr><td>1</td><td>130</td><td>283</td><td> 98</td><td>2</td><td>0</td></tr>\n",
       "\t<tr><td>⋮</td><td>⋮</td><td>⋮</td><td>⋮</td><td>⋮</td><td>⋮</td></tr>\n",
       "\t<tr><td>1</td><td>110</td><td>211</td><td>138</td><td>3</td><td>0</td></tr>\n",
       "\t<tr><td>0</td><td>140</td><td>257</td><td>135</td><td>2</td><td>0</td></tr>\n",
       "\t<tr><td>1</td><td>130</td><td>182</td><td>148</td><td>4</td><td>0</td></tr>\n",
       "</tbody>\n",
       "</table>\n"
      ],
      "text/latex": [
       "A tibble: 294 × 6\n",
       "\\begin{tabular}{llllll}\n",
       " sex & trestbps & chol & thalach & cp & num\\\\\n",
       " <dbl> & <dbl> & <dbl> & <dbl> & <dbl> & <dbl>\\\\\n",
       "\\hline\n",
       "\t 1 & 140 & 289 & 172 & 2 & 0\\\\\n",
       "\t 0 & 160 & 180 & 156 & 3 & 1\\\\\n",
       "\t 1 & 130 & 283 &  98 & 2 & 0\\\\\n",
       "\t ⋮ & ⋮ & ⋮ & ⋮ & ⋮ & ⋮\\\\\n",
       "\t 1 & 110 & 211 & 138 & 3 & 0\\\\\n",
       "\t 0 & 140 & 257 & 135 & 2 & 0\\\\\n",
       "\t 1 & 130 & 182 & 148 & 4 & 0\\\\\n",
       "\\end{tabular}\n"
      ],
      "text/markdown": [
       "\n",
       "A tibble: 294 × 6\n",
       "\n",
       "| sex &lt;dbl&gt; | trestbps &lt;dbl&gt; | chol &lt;dbl&gt; | thalach &lt;dbl&gt; | cp &lt;dbl&gt; | num &lt;dbl&gt; |\n",
       "|---|---|---|---|---|---|\n",
       "| 1 | 140 | 289 | 172 | 2 | 0 |\n",
       "| 0 | 160 | 180 | 156 | 3 | 1 |\n",
       "| 1 | 130 | 283 |  98 | 2 | 0 |\n",
       "| ⋮ | ⋮ | ⋮ | ⋮ | ⋮ | ⋮ |\n",
       "| 1 | 110 | 211 | 138 | 3 | 0 |\n",
       "| 0 | 140 | 257 | 135 | 2 | 0 |\n",
       "| 1 | 130 | 182 | 148 | 4 | 0 |\n",
       "\n"
      ],
      "text/plain": [
       "    sex trestbps chol thalach cp num\n",
       "1   1   140      289  172     2  0  \n",
       "2   0   160      180  156     3  1  \n",
       "3   1   130      283   98     2  0  \n",
       "⋮   ⋮   ⋮        ⋮    ⋮       ⋮  ⋮  \n",
       "292 1   110      211  138     3  0  \n",
       "293 0   140      257  135     2  0  \n",
       "294 1   130      182  148     4  0  "
      ]
     },
     "metadata": {},
     "output_type": "display_data"
    }
   ],
   "source": [
    "heart_attack_data = select(heart_attack_data_raw,sex,trestbps,chol,thalach,cp,num)\n",
    "#heart_attack_data = mutate(heart_attack_data,cp=as.factor(cp),num=as.factor(num))\n",
    "heart_attack_data"
   ]
  },
  {
   "cell_type": "code",
   "execution_count": 9,
   "id": "e67a2c29-061c-4fb9-b12a-ec445cf42647",
   "metadata": {
    "tags": []
   },
   "outputs": [
    {
     "data": {
      "text/html": [
       "<table class=\"dataframe\">\n",
       "<caption>A tibble: 5 × 5</caption>\n",
       "<thead>\n",
       "\t<tr><th scope=col>num</th><th scope=col>mean terstbps</th><th scope=col>mean chol</th><th scope=col>mean thalach</th><th scope=col>mean cp</th></tr>\n",
       "\t<tr><th scope=col>&lt;dbl&gt;</th><th scope=col>&lt;dbl&gt;</th><th scope=col>&lt;dbl&gt;</th><th scope=col>&lt;dbl&gt;</th><th scope=col>&lt;dbl&gt;</th></tr>\n",
       "</thead>\n",
       "<tbody>\n",
       "\t<tr><td>0</td><td>129.9894</td><td>216.1170</td><td>144.1862</td><td>2.617021</td></tr>\n",
       "\t<tr><td>1</td><td>128.0000</td><td>245.3243</td><td>138.8649</td><td>3.621622</td></tr>\n",
       "\t<tr><td>2</td><td>137.6923</td><td>247.6923</td><td>124.2692</td><td>3.807692</td></tr>\n",
       "\t<tr><td>3</td><td>141.2857</td><td>253.8571</td><td>123.2143</td><td>3.392857</td></tr>\n",
       "\t<tr><td>4</td><td>141.8667</td><td>301.2000</td><td>122.0000</td><td>3.800000</td></tr>\n",
       "</tbody>\n",
       "</table>\n"
      ],
      "text/latex": [
       "A tibble: 5 × 5\n",
       "\\begin{tabular}{lllll}\n",
       " num & mean terstbps & mean chol & mean thalach & mean cp\\\\\n",
       " <dbl> & <dbl> & <dbl> & <dbl> & <dbl>\\\\\n",
       "\\hline\n",
       "\t 0 & 129.9894 & 216.1170 & 144.1862 & 2.617021\\\\\n",
       "\t 1 & 128.0000 & 245.3243 & 138.8649 & 3.621622\\\\\n",
       "\t 2 & 137.6923 & 247.6923 & 124.2692 & 3.807692\\\\\n",
       "\t 3 & 141.2857 & 253.8571 & 123.2143 & 3.392857\\\\\n",
       "\t 4 & 141.8667 & 301.2000 & 122.0000 & 3.800000\\\\\n",
       "\\end{tabular}\n"
      ],
      "text/markdown": [
       "\n",
       "A tibble: 5 × 5\n",
       "\n",
       "| num &lt;dbl&gt; | mean terstbps &lt;dbl&gt; | mean chol &lt;dbl&gt; | mean thalach &lt;dbl&gt; | mean cp &lt;dbl&gt; |\n",
       "|---|---|---|---|---|\n",
       "| 0 | 129.9894 | 216.1170 | 144.1862 | 2.617021 |\n",
       "| 1 | 128.0000 | 245.3243 | 138.8649 | 3.621622 |\n",
       "| 2 | 137.6923 | 247.6923 | 124.2692 | 3.807692 |\n",
       "| 3 | 141.2857 | 253.8571 | 123.2143 | 3.392857 |\n",
       "| 4 | 141.8667 | 301.2000 | 122.0000 | 3.800000 |\n",
       "\n"
      ],
      "text/plain": [
       "  num mean terstbps mean chol mean thalach mean cp \n",
       "1 0   129.9894      216.1170  144.1862     2.617021\n",
       "2 1   128.0000      245.3243  138.8649     3.621622\n",
       "3 2   137.6923      247.6923  124.2692     3.807692\n",
       "4 3   141.2857      253.8571  123.2143     3.392857\n",
       "5 4   141.8667      301.2000  122.0000     3.800000"
      ]
     },
     "metadata": {},
     "output_type": "display_data"
    }
   ],
   "source": [
    "table_means = select(heart_attack_data,-sex) |>\n",
    "group_by(num) |>\n",
    "summarize(across(trestbps:cp,mean))\n",
    "colnames(table_means) = c('num',\"mean terstbps\",\"mean chol\",\"mean thalach\",\"mean cp\")\n",
    "table_means"
   ]
  },
  {
   "cell_type": "code",
   "execution_count": 10,
   "id": "5a6c1eeb-beb3-40a5-85b3-2be2b7b4a7b2",
   "metadata": {},
   "outputs": [
    {
     "data": {
      "text/html": [
       "<table class=\"dataframe\">\n",
       "<caption>A tibble: 5 × 2</caption>\n",
       "<thead>\n",
       "\t<tr><th scope=col>num</th><th scope=col>total amount of num</th></tr>\n",
       "\t<tr><th scope=col>&lt;dbl&gt;</th><th scope=col>&lt;int&gt;</th></tr>\n",
       "</thead>\n",
       "<tbody>\n",
       "\t<tr><td>0</td><td>188</td></tr>\n",
       "\t<tr><td>1</td><td> 37</td></tr>\n",
       "\t<tr><td>2</td><td> 26</td></tr>\n",
       "\t<tr><td>3</td><td> 28</td></tr>\n",
       "\t<tr><td>4</td><td> 15</td></tr>\n",
       "</tbody>\n",
       "</table>\n"
      ],
      "text/latex": [
       "A tibble: 5 × 2\n",
       "\\begin{tabular}{ll}\n",
       " num & total amount of num\\\\\n",
       " <dbl> & <int>\\\\\n",
       "\\hline\n",
       "\t 0 & 188\\\\\n",
       "\t 1 &  37\\\\\n",
       "\t 2 &  26\\\\\n",
       "\t 3 &  28\\\\\n",
       "\t 4 &  15\\\\\n",
       "\\end{tabular}\n"
      ],
      "text/markdown": [
       "\n",
       "A tibble: 5 × 2\n",
       "\n",
       "| num &lt;dbl&gt; | total amount of num &lt;int&gt; |\n",
       "|---|---|\n",
       "| 0 | 188 |\n",
       "| 1 |  37 |\n",
       "| 2 |  26 |\n",
       "| 3 |  28 |\n",
       "| 4 |  15 |\n",
       "\n"
      ],
      "text/plain": [
       "  num total amount of num\n",
       "1 0   188                \n",
       "2 1    37                \n",
       "3 2    26                \n",
       "4 3    28                \n",
       "5 4    15                "
      ]
     },
     "metadata": {},
     "output_type": "display_data"
    },
    {
     "data": {
      "text/html": [
       "<style>\n",
       ".list-inline {list-style: none; margin:0; padding: 0}\n",
       ".list-inline>li {display: inline-block}\n",
       ".list-inline>li:not(:last-child)::after {content: \"\\00b7\"; padding: 0 .5ex}\n",
       "</style>\n",
       "<ol class=list-inline><li>188</li><li>37</li><li>26</li><li>28</li><li>15</li></ol>\n"
      ],
      "text/latex": [
       "\\begin{enumerate*}\n",
       "\\item 188\n",
       "\\item 37\n",
       "\\item 26\n",
       "\\item 28\n",
       "\\item 15\n",
       "\\end{enumerate*}\n"
      ],
      "text/markdown": [
       "1. 188\n",
       "2. 37\n",
       "3. 26\n",
       "4. 28\n",
       "5. 15\n",
       "\n",
       "\n"
      ],
      "text/plain": [
       "[1] 188  37  26  28  15"
      ]
     },
     "metadata": {},
     "output_type": "display_data"
    }
   ],
   "source": [
    "table_num_count = heart_attack_data |>\n",
    "group_by(num) |>\n",
    "summarize(\"total amount of num\"=n())\n",
    "table_num_count\n",
    "num_count_col = pull(table_num_count, 'total amount of num')\n",
    "num_count_col"
   ]
  },
  {
   "cell_type": "code",
   "execution_count": 11,
   "id": "74851319-7be6-4cce-80d4-60dfd196f53c",
   "metadata": {},
   "outputs": [
    {
     "name": "stderr",
     "output_type": "stream",
     "text": [
      "\u001b[1m\u001b[22mNew names:\n",
      "\u001b[36m•\u001b[39m `` -> `...6`\n"
     ]
    },
    {
     "data": {
      "text/html": [
       "<table class=\"dataframe\">\n",
       "<caption>A tibble: 5 × 6</caption>\n",
       "<thead>\n",
       "\t<tr><th scope=col>num</th><th scope=col>mean terstbps</th><th scope=col>mean chol</th><th scope=col>mean thalach</th><th scope=col>mean cp</th><th scope=col>total count of num</th></tr>\n",
       "\t<tr><th scope=col>&lt;dbl&gt;</th><th scope=col>&lt;dbl&gt;</th><th scope=col>&lt;dbl&gt;</th><th scope=col>&lt;dbl&gt;</th><th scope=col>&lt;dbl&gt;</th><th scope=col>&lt;int&gt;</th></tr>\n",
       "</thead>\n",
       "<tbody>\n",
       "\t<tr><td>0</td><td>129.9894</td><td>216.1170</td><td>144.1862</td><td>2.617021</td><td>188</td></tr>\n",
       "\t<tr><td>1</td><td>128.0000</td><td>245.3243</td><td>138.8649</td><td>3.621622</td><td> 37</td></tr>\n",
       "\t<tr><td>2</td><td>137.6923</td><td>247.6923</td><td>124.2692</td><td>3.807692</td><td> 26</td></tr>\n",
       "\t<tr><td>3</td><td>141.2857</td><td>253.8571</td><td>123.2143</td><td>3.392857</td><td> 28</td></tr>\n",
       "\t<tr><td>4</td><td>141.8667</td><td>301.2000</td><td>122.0000</td><td>3.800000</td><td> 15</td></tr>\n",
       "</tbody>\n",
       "</table>\n"
      ],
      "text/latex": [
       "A tibble: 5 × 6\n",
       "\\begin{tabular}{llllll}\n",
       " num & mean terstbps & mean chol & mean thalach & mean cp & total count of num\\\\\n",
       " <dbl> & <dbl> & <dbl> & <dbl> & <dbl> & <int>\\\\\n",
       "\\hline\n",
       "\t 0 & 129.9894 & 216.1170 & 144.1862 & 2.617021 & 188\\\\\n",
       "\t 1 & 128.0000 & 245.3243 & 138.8649 & 3.621622 &  37\\\\\n",
       "\t 2 & 137.6923 & 247.6923 & 124.2692 & 3.807692 &  26\\\\\n",
       "\t 3 & 141.2857 & 253.8571 & 123.2143 & 3.392857 &  28\\\\\n",
       "\t 4 & 141.8667 & 301.2000 & 122.0000 & 3.800000 &  15\\\\\n",
       "\\end{tabular}\n"
      ],
      "text/markdown": [
       "\n",
       "A tibble: 5 × 6\n",
       "\n",
       "| num &lt;dbl&gt; | mean terstbps &lt;dbl&gt; | mean chol &lt;dbl&gt; | mean thalach &lt;dbl&gt; | mean cp &lt;dbl&gt; | total count of num &lt;int&gt; |\n",
       "|---|---|---|---|---|---|\n",
       "| 0 | 129.9894 | 216.1170 | 144.1862 | 2.617021 | 188 |\n",
       "| 1 | 128.0000 | 245.3243 | 138.8649 | 3.621622 |  37 |\n",
       "| 2 | 137.6923 | 247.6923 | 124.2692 | 3.807692 |  26 |\n",
       "| 3 | 141.2857 | 253.8571 | 123.2143 | 3.392857 |  28 |\n",
       "| 4 | 141.8667 | 301.2000 | 122.0000 | 3.800000 |  15 |\n",
       "\n"
      ],
      "text/plain": [
       "  num mean terstbps mean chol mean thalach mean cp  total count of num\n",
       "1 0   129.9894      216.1170  144.1862     2.617021 188               \n",
       "2 1   128.0000      245.3243  138.8649     3.621622  37               \n",
       "3 2   137.6923      247.6923  124.2692     3.807692  26               \n",
       "4 3   141.2857      253.8571  123.2143     3.392857  28               \n",
       "5 4   141.8667      301.2000  122.0000     3.800000  15               "
      ]
     },
     "metadata": {},
     "output_type": "display_data"
    }
   ],
   "source": [
    "summary_table = bind_cols(table_means,num_count_col)\n",
    "colnames(summary_table) = c('num',\"mean terstbps\",\"mean chol\",\"mean thalach\",\"mean cp\",\"total count of num\")\n",
    "summary_table"
   ]
  },
  {
   "cell_type": "code",
   "execution_count": 12,
   "id": "842b32d3-8000-46d5-a841-dc29f20d22ed",
   "metadata": {},
   "outputs": [],
   "source": [
    "#Visualizations"
   ]
  },
  {
   "cell_type": "code",
   "execution_count": 20,
   "id": "82e7e05d-a2c2-411d-b2a5-c78ef9e01084",
   "metadata": {},
   "outputs": [
    {
     "data": {
      "image/png": "[encoded data removed]",
      "text/plain": [
       "plot without title"
      ]
     },
     "metadata": {
      "image/png": {
       "height": 420,
       "width": 420
      }
     },
     "output_type": "display_data"
    }
   ],
   "source": [
    "heart_attack_data_factored = mutate(heart_attack_data_raw,num=as.factor(num))\n",
    "ggplot(heart_attack_data_factored,aes(x=trestbps,y=chol,color=num))+\n",
    "geom_point()"
   ]
  },
  {
   "cell_type": "code",
   "execution_count": null,
   "id": "ccb83184-3271-4917-90ea-5757b890bf7d",
   "metadata": {},
   "outputs": [],
   "source": []
  }
 ],
 "metadata": {
  "kernelspec": {
   "display_name": "R",
   "language": "R",
   "name": "ir"
  },
  "language_info": {
   "codemirror_mode": "r",
   "file_extension": ".r",
   "mimetype": "text/x-r-source",
   "name": "R",
   "pygments_lexer": "r",
   "version": "4.1.3"
  }
 },
 "nbformat": 4,
 "nbformat_minor": 5
}
